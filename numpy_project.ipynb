{
 "cells": [
  {
   "cell_type": "markdown",
   "metadata": {},
   "source": [
    "### **Task 1**\n",
    "* ***Question No.  1.1*** "
   ]
  },
  {
   "cell_type": "markdown",
   "metadata": {},
   "source": [
    "### ***Part(1.1(a))***\n",
    "> manual solution\n",
    "\n",
    "Let’s break down the given transformation matrix (A):\n",
    "$$\n",
    "[ A = \\begin{bmatrix} 0 & -2 & 3 \\ 2 & 0 & 1 \\ 0 & 0 & 1 \\end{bmatrix} ]\n",
    "$$\n",
    "\n",
    "We have the following relationship:\n",
    "$$\n",
    "\n",
    "[ \\begin{bmatrix} x’ \\ y’ \\ 1 \\end{bmatrix} = A \\begin{bmatrix} x \\ y \\ 1 \\end{bmatrix} ]\n",
    "$$\n",
    "\n",
    "To find the elements (x’) and (y’), we multiply the matrix (A) by the vector\n",
    "\n",
    "$$\n",
    "(\\begin{bmatrix} x \\ y \\ 1 \\end{bmatrix})\n",
    "$$\n",
    "\n",
    "$$\n",
    "[ \\begin{bmatrix} x’ \\ y’ \\ 1 \\end{bmatrix} = \\begin{bmatrix} 0 & -2 & 3 \\ 2 & 0 & 1 \\ 0 & 0 & 1 \\end{bmatrix} \\begin{bmatrix} x \\ y \\ 1 \\end{bmatrix} ]\n",
    "$$\n",
    "Performing the matrix multiplication:\n",
    "$$\n",
    "[ x’ = 0 \\cdot x + (-2) \\cdot y + 3 \\cdot 1 = -2y + 3 ] [ y’ = 2 \\cdot x + 0 \\cdot y + 1 \\cdot 1 = 2x + 1 ]\n",
    "$$\n",
    "Therefore, the elements (x’) and (y’) in terms of (x) and (y) are:\n",
    "$$\n",
    "[ x’ = -2y + 3 ] [ y’ = 2x + 1 ]\n",
    "$$\n"
   ]
  },
  {
   "cell_type": "markdown",
   "metadata": {},
   "source": [
    "### ***Part(1.1(b))***\n",
    "> python solution"
   ]
  },
  {
   "cell_type": "code",
   "execution_count": 23,
   "metadata": {},
   "outputs": [
    {
     "name": "stdout",
     "output_type": "stream",
     "text": [
      "Transformation matrix A:\n",
      "[[ 0 -2  3]\n",
      " [ 2  0  1]\n",
      " [ 0  0  1]]\n",
      "\n",
      "Input vector v:\n",
      "[4 5 1]\n",
      "\n",
      "Transformed vector v':\n",
      "[-7  9  1]\n"
     ]
    }
   ],
   "source": [
    "import numpy as np\n",
    "\n",
    "# Construct the transformation matrix A\n",
    "A = np.array([[0, -2, 3], \n",
    "              [2, 0, 1],\n",
    "              [0, 0, 1]])\n",
    "\n",
    "# Define the input vector\n",
    "v = np.array([4, 5, 1])\n",
    "v_transposed = np.transpose(v)\n",
    "\n",
    "# Perform matrix multiplication to transform the vector\n",
    "v_transformed = np.dot(A, v_transposed)\n",
    "\n",
    "print(\"Transformation matrix A:\")\n",
    "print(A)\n",
    "print(\"\\nInput vector v:\")\n",
    "print(v_transposed)\n",
    "print(\"\\nTransformed vector v':\")\n",
    "print(v_transformed)\n"
   ]
  },
  {
   "cell_type": "markdown",
   "metadata": {},
   "source": [
    "### ***Part(1.1(c))***\n",
    "> manual solution"
   ]
  },
  {
   "cell_type": "markdown",
   "metadata": {},
   "source": [
    "Scaling Operation: Suppose we have a scaling factor (s_x) along the x-axis and a scaling factor (s_y) along the y-axis. The scaling matrix (S) is given by:\n",
    "$$\n",
    " [ S =\\begin{bmatrix} s_x & 0 & 0 \\ 0 & s_y & 0 \\ 0 & 0 & 1 \\end{bmatrix} ]\n",
    " $$\n",
    "  Applying this scaling matrix to the vector\n",
    "$$ \n",
    "(\\begin{bmatrix} x \\ y \\ 1 \\end{bmatrix})\n",
    "$$\n",
    "\n",
    " gives us:\n",
    "$$\n",
    "[ \\begin{bmatrix} x’ \\ y’ \\ 1 \\end{bmatrix} = S \\begin{bmatrix} x \\ y \\ 1 \\end{bmatrix} = \\begin{bmatrix} s_x \\cdot x \\ s_y \\cdot y \\ 1 \\end{bmatrix} ]\n",
    " $$\n",
    "Shearing Operation: Suppose we have a shear factor (h_{xy}) that shears along the x-axis based on the y-coordinate. The shearing matrix (H) is given by: [ H =\n",
    "$$\n",
    "\\begin{bmatrix} 1 & h_{xy} & 0 \\ 0 & 1 & 0 \\ 0 & 0 & 1 \\end{bmatrix} ]\n",
    "$$\n",
    " Applying this shearing matrix to the scaled vector \n",
    "$$\n",
    "(\\begin{bmatrix} s_x \\cdot x \\ s_y \\cdot y \\ 1 \\end{bmatrix})\n",
    "$$\n",
    "gives us the final transformed vector:\n",
    "$$ \n",
    "[ \\begin{bmatrix} x’’ \\ y’’ \\ 1 \\end{bmatrix} \n",
    "$$ = \n",
    "$$ H \\begin{bmatrix} s_x \\cdot x \\ s_y \\cdot y \\ 1 \\end{bmatrix}\n",
    "$$ =\n",
    "$$ \\begin{bmatrix} s_x \\cdot x + h_{xy} \\cdot s_y \\cdot y \\ s_y \\cdot y \\ 1 \\end{bmatrix} ]\n",
    "$$\n",
    "\n",
    "Combined Matrix (B): The combined transformation matrix (B) is obtained by multiplying the scaling matrix (S) with the shearing matrix (H):\n",
    "$$ \n",
    "[ B = H \\cdot S = \\begin{bmatrix} 1 & h_{xy} & 0 \\ 0 & 1 & 0 \\ 0 & 0 & 1 \\end{bmatrix} \n",
    "$$\n",
    "$$\n",
    "\\begin{bmatrix} s_x & 0 & 0 \\ 0 & s_y & 0 \\ 0 & 0 & 1 \\end{bmatrix} ]\n",
    "$$ \n",
    "The resulting matrix (B) will have the combined effect of scaling and shearing on the vector \n",
    "$$(\\begin{bmatrix} x \\ y \\ 1 \\end{bmatrix}).$$"
   ]
  },
  {
   "cell_type": "markdown",
   "metadata": {},
   "source": [
    "### ***Part(1.1(d))***\n",
    "> python solution"
   ]
  },
  {
   "cell_type": "code",
   "execution_count": 24,
   "metadata": {},
   "outputs": [
    {
     "name": "stdout",
     "output_type": "stream",
     "text": [
      "Transformed vector: [43. 10.]\n"
     ]
    }
   ],
   "source": [
    "import numpy as np\n",
    "\n",
    "def apply_scaling_and_shearing(v, s, h):\n",
    "    # Create the scaling matrix\n",
    "    S = np.array([[s, 0], [0, s]])\n",
    "    # Create the shearing matrix\n",
    "    Hx = np.array([[1, h], [0, 1]])\n",
    "    # Combine the transformations\n",
    "    B = np.dot(S, Hx)\n",
    "    # Apply the transformation to the input vector\n",
    "    v_prime = np.dot(B, v)\n",
    "    return v_prime\n",
    "\n",
    "# Example usage\n",
    "input_vector = np.array([4, 5, 1])\n",
    "scaling_factor = 2\n",
    "shearing_factor = 3.5\n",
    "transformed_vector = apply_scaling_and_shearing(input_vector[:2], scaling_factor, shearing_factor)\n",
    "print(\"Transformed vector:\", transformed_vector)\n"
   ]
  },
  {
   "cell_type": "markdown",
   "metadata": {},
   "source": [
    "## ***Question 1.2***"
   ]
  },
  {
   "cell_type": "markdown",
   "metadata": {},
   "source": [
    "### ***Part(1.2(a))***\n",
    "> manual solution"
   ]
  },
  {
   "cell_type": "markdown",
   "metadata": {},
   "source": [
    "Certainly! Let’s calculate the cofactor (C_{4,4}) of matrix (E).\n",
    "\n",
    "Matrix (E) is given as:\n",
    "[ E =\n",
    "$$ \n",
    "\\begin{bmatrix} 1 & 4 & -1 & 2 \\ 2 & 0 & 8 & 8 \\ 4 & -2 & 1 & 3 \\ 0 & 0 & 0 & 1 \\end{bmatrix} ]\n",
    "$$\n",
    "To find the cofactor (C_{4,4}), we follow these steps:\n",
    "\n",
    "Calculate the Minor:\n",
    "\n",
    "Remove the fourth row and fourth column from matrix (E).\n",
    "\n",
    "The resulting submatrix (minor) is: \n",
    "$$\n",
    "[ \\text{Minor}_{4,4} = \\begin{bmatrix} 1 & 4 & -1 \\ 2 & 0 & 8 \\ 4 & -2 & 1 \\end{bmatrix} ]\n",
    "$$ \n",
    "Apply the Checkerboard Pattern of Signs:\n",
    "\n",
    "We alternate the signs in a checkerboard pattern, starting with a positive sign in the top-left corner.\n",
    "\n",
    "So, the sign for (C_{4,4}) will be positive.\n",
    "\n",
    "Calculate the Determinant of the Minor:\n",
    "\n",
    "The determinant of the minor can be found using the formula: \n",
    "$$ \n",
    "[ \\text{det}(\\text{Minor}_{4,4}) = \\begin{vmatrix} 1 & 4 & -1 \\ 2 & 0 & 8 \\ 4 & -2 & 1 \\end{vmatrix} ]\n",
    "$$ \n",
    "Evaluating the determinant:\n",
    "$$ [ \\text{det}(\\text{Minor}_{4,4}) = 1 \\cdot \\begin{vmatrix} 0 & 8 \\ -2 & 1 \\end{vmatrix} - \n",
    "$$\n",
    "$$\n",
    "4 \\cdot \\begin{vmatrix} 2 & 8 \\ 4 & 1 \\end{vmatrix} - \n",
    "$$\n",
    "$$\n",
    "(-1) \n",
    " \n",
    "\\cdot \\begin{vmatrix} 2 & 0 \\ 4 & -2 \\end{vmatrix} ]\n",
    "$$\n",
    "$$\n",
    "[ = 1 \\cdot (0 \\cdot 1 - 8 \\cdot (-2)) - 4 \\cdot (2 \\cdot 1 - 8 \\cdot 4) - (-1) \\cdot (2 \\cdot (-2) - 0 \\cdot 4) ] [ = 1 \\cdot (16) - 4 \\cdot (-30) - (-1) \\cdot (-4) = 16 + 120 + 4 = 140 ]\n",
    "$$ \n",
    "Multiply by the Sign:\n",
    "Since the sign for (C_{4,4}) is positive, \n",
    "$$ \n",
    "we have: [ C_{4,4} = (+1) \\cdot \\text{det}(\\text{Minor}_{4,4}) = 140 ]\n",
    "$$ "
   ]
  },
  {
   "cell_type": "markdown",
   "metadata": {},
   "source": [
    "### ***Part(1.2(b))***\n",
    "> python solution"
   ]
  },
  {
   "cell_type": "code",
   "execution_count": 26,
   "metadata": {},
   "outputs": [
    {
     "name": "stdout",
     "output_type": "stream",
     "text": [
      "E_inv * E = [[ 1.00000000e+00 -5.55111512e-17  0.00000000e+00  1.11022302e-16]\n",
      " [ 0.00000000e+00  1.00000000e+00  0.00000000e+00 -1.11022302e-16]\n",
      " [ 0.00000000e+00  0.00000000e+00  1.00000000e+00 -1.11022302e-16]\n",
      " [ 0.00000000e+00  0.00000000e+00  0.00000000e+00  1.00000000e+00]]\n",
      "E_inv * E is equal to I within the tolerance: True\n",
      "E_inv * E == I: True\n"
     ]
    }
   ],
   "source": [
    "import numpy as np\n",
    "from numpy.testing import assert_allclose\n",
    "\n",
    "E = np.array([\n",
    "    [1, 4, -1, 2],\n",
    "    [2, 0, 8, 8],\n",
    "    [4, -2, 1, 3],\n",
    "    [0, 0, 0, 1]\n",
    "])\n",
    "\n",
    "E_inv = np.linalg.inv(E)\n",
    "\n",
    "\n",
    "I = np.eye(4)\n",
    "\n",
    "E_inv_E = np.dot(E_inv, E)\n",
    "\n",
    "print(\"E_inv * E =\", E_inv_E)\n",
    "# Seting a tolerance value\n",
    "tolerance = 1e-9\n",
    "\n",
    "# Compare E_inv_E and I using assert_allclose\n",
    "assert_allclose(E_inv_E, I, atol=tolerance)\n",
    "tolerance = 1e-9\n",
    "\n",
    "# Compare E_inv_E and I using np.allclose\n",
    "is_equal = np.allclose(E_inv_E, I, atol=tolerance)\n",
    "\n",
    "print(\"E_inv * E is equal to I within the tolerance:\", is_equal)\n",
    "print(\"E_inv * E == I:\", np.allclose(E_inv_E, I))\n",
    "\n"
   ]
  },
  {
   "cell_type": "markdown",
   "metadata": {},
   "source": [
    "## ***Question 1.3***\n",
    "> manual solution"
   ]
  },
  {
   "cell_type": "markdown",
   "metadata": {},
   "source": [
    "**Reason 1**\n",
    "\n",
    "The given matrix is a singular matrix because it has a determinant of zero. This means that the matrix is not invertible, and its inverse does not exist.\n",
    "To understand why this matrix is singular, let's analyze its determinant:\n",
    "\n",
    "| 1 0 0 |\n",
    "\n",
    "| 0 1 0 |\n",
    "\n",
    "| 0 0 0 |\n",
    "\n",
    "| 0 0 0 |\n",
    "\n",
    "| 0 0 0 |\n",
    "\n",
    "| 0 0 0 |\n",
    "\n",
    "| 0 0 1 |\n",
    "\n",
    "- The determinant of the first three rows (the main diagonal) is zero. This means that there are two linearly dependent rows in the matrix\n",
    "\n",
    "- The determinant of this matrix is the product of the diagonal elements, which is 0. This is because the matrix has a row of all zeros, which means that the determinant is zero.\n",
    "\n",
    "- As a result, the matrix is singular, and it cannot be inverted. This means that the operation of projecting 3D pixels onto the 2D plane cannot be reversed, and the original 3D coordinates cannot be recovered from the 2D projection.\n",
    "- In other words, the information about the z-coordinate (depth) is lost in the projection process, and the resulting 2D image does not contain enough information to reconstruct the original 3D model.\n",
    "\n",
    "**Reason  2**\n",
    "\n",
    "- The determinant of a 2x2 matrix is given by the formula (a*d) - (b*c), where a, b, c, and d are the matrix elements. In this case, a = 1, b = 0, c = 0, and d = 1. So, the determinant is:\n",
    "\n",
    "\n",
    "(1 * 1) - (0 * 0) = 1 - 0 = 1\n",
    "\n",
    "\n",
    "- However, the given operator is a 3x4 matrix, and the determinant is not defined for non-square matrices. Instead, we can consider the rank of the matrix, which is the size of the largest square submatrix with a non-zero determinant. In this case, the rank of the matrix is 2, as the submatrix formed by the first two rows and columns has a determinant of 1.\n",
    "\n",
    "- Since the > ***rank of the matrix is less than its number of columns (2 < 4)***, the matrix is singular and cannot be inverted. This operation cannot be reversed because there is no unique solution for the original 3D coordinates given the 2D projection. In other words, multiple 3D points can be projected onto the same 2D point, making it impossible to recover the original 3D coordinates without additional information."
   ]
  },
  {
   "cell_type": "markdown",
   "metadata": {},
   "source": [
    "## ***Question 1.4***\n",
    "### ***Part(1.4(a))***\n",
    "> manual solution"
   ]
  },
  {
   "cell_type": "markdown",
   "metadata": {},
   "source": [
    "To construct the 4x4 matrix G, let's first understand the given equations and what the unknowns 𝑎, 𝑏, 𝑐, 𝑑 represent.\n",
    "\n",
    "Given the affine transformation matrix F:\n",
    "$$\n",
    "[ F = \\begin{pmatrix} a & b \\\\ c & d \\end{pmatrix} ]\n",
    "$$\n",
    "And the pairs of corresponding pixels:\n",
    "$$\n",
    "[ v_1 = \\begin{pmatrix} x_1 \\\\ y_1 \\end{pmatrix} \\text{ and } v_1' = \\begin{pmatrix} x_1' \\\\ y_1' \\end{pmatrix} ]\n",
    "$$\n",
    "$$\n",
    "[ v_2 = \\begin{pmatrix} x_2 \\\\ y_2 \\end{pmatrix} \\text{ and } v_2' = \\begin{pmatrix} x_2' \\\\ y_2' \\end{pmatrix} ]\n",
    "$$\n",
    "\n",
    "We have the following simultaneous equations:\n",
    "\n",
    "$$\n",
    "a x_1 + b y_1 = x_1' \\\\ c x_1 + d y_1 = y_1' \\\\ a x_2 + b y_2 = x_2' \\\\ c x_2 + d y_2 = y_2']\n",
    "$$\n",
    "\n",
    "Now, let's rewrite these equations in matrix form:\n",
    "$$\n",
    "G = \\left[ \\begin{array}{cccc}\n",
    "x_1 & y_1 & 0 & 0 \\\\\n",
    "0 & 0 & x_1 & y_1 \\\\\n",
    "x_2 & y_2 & 0 & 0 \\\\\n",
    "0 & 0 & x_2 & y_2 \\\\\n",
    "\\end{array} \\right]\n",
    "\\left[ \\begin{array}{c}\n",
    "a \\\\\n",
    "b \\\\\n",
    "c \\\\\n",
    "d \\\\\n",
    "\\end{array} \\right]\n",
    "=\n",
    "\\left[ \\begin{array}{c}\n",
    "x_1' \\\\\n",
    "y_1' \\\\\n",
    "x_2' \\\\\n",
    "y_2' \\\\\n",
    "\\end{array} \\right]\n",
    "$$\n",
    "\n",
    "\n",
    "\n",
    "\n",
    "\n",
    "Which can be simplified to:\n",
    "$$\n",
    "\\begin{pmatrix}\n",
    "G & \\begin{pmatrix} a \\\\ b \\\\ c \\\\ d \\end{pmatrix} = \\begin{pmatrix} x_1' \\\\ y_1' \\\\ x_2' \\\\ y_2' \\end{pmatrix}\n",
    "\\end{pmatrix}\n",
    "$$\n",
    "From this, we can see that the 4x4 matrix G is constructed by arranging the pixel coordinates accordingly.\n",
    "\n",
    "\n",
    "***So, the matrix G is:***\n",
    "\\[ G = \n",
    "\\begin{pmatrix} \n",
    "x_1 & y_1 & 0 & 0 \\\\ \n",
    "0 & 0 & x_1 & y_1 \\\\ \n",
    "x_2 & y_2 & 0 & 0 \\\\ \n",
    "0 & 0 & x_2 & y_2 \n",
    "\\end{pmatrix}\n",
    "\\]\n",
    "This matrix G represents the linear system of equations that relates the unknown coefficients of the affine transformation to the pixel coordinates.\n"
   ]
  },
  {
   "cell_type": "markdown",
   "metadata": {},
   "source": [
    "### ***Part(1.4(b))***"
   ]
  },
  {
   "cell_type": "markdown",
   "metadata": {},
   "source": [
    "To solve for the first unknown coefficient \\( a \\), we can use Cramer's Rule, which states that if we have a system of linear equations represented by \\( Ax = b \\), where \\( A \\) is the coefficient matrix, \\( x \\) is the vector of unknowns, and \\( b \\) is the vector of constants, then the solution for \\( x_i \\) (the \\( i \\)-th unknown) can be found using the formula:\n",
    "$$\n",
    "x_i = \\frac{{\\text{det}(A_i)}}{{\\text{det}(A)}} \n",
    "$$\n",
    "\n",
    "where \\( A_i \\) is the matrix obtained by replacing the \\( i \\)-th column of \\( A \\) with the vector \\( b \\), and \\( \\text{det} \\) denotes the determinant.\n",
    "\n",
    "In our case, we have the system:\n",
    "\n",
    "\\[\n",
    "\\begin{cases}\n",
    "a \\cdot x_1 + b \\cdot y_1 = x_1' \\\\\n",
    "c \\cdot x_1 + d \\cdot y_1 = y_1' \\\\\n",
    "a \\cdot x_2 + b \\cdot y_2 = x_2' \\\\\n",
    "c \\cdot x_2 + d \\cdot y_2 = y_2'\n",
    "\\end{cases}\n",
    "\\]\n",
    "\n",
    "\n",
    "Let's denote \\( D \\) as the determinant of matrix \\( G \\), \\( D_a \\) as the determinant of \\( G \\) with the first column replaced by \\( (x_1', y_1', x_2', y_2')^T \\), and \\( D_b, D_c, D_d \\) similarly.\n",
    "\n",
    "Then, using Cramer's Rule, we have:\n",
    "$$\n",
    "a = \\frac{{D_a}}{{D}}\n",
    "$$\n",
    "\n",
    "where:\n",
    "$$\n",
    "D_a = \\begin{vmatrix}\n",
    "x_1' & y_1' & 0 & 0 \\\\\n",
    "0 & 0 & x_1 & y_1 \\\\\n",
    "x_2' & y_2' & 0 & 0 \\\\\n",
    "0 & 0 & x_2 & y_2 \\\\\n",
    "\\end{vmatrix}\n",
    "$$\n",
    "\n",
    "$$\n",
    "D_b = \\begin{vmatrix}\n",
    "x_1 & y_1 & 0 & 0 \\\\\n",
    "x_1' & y_1' & 0 & 0 \\\\\n",
    "x_2 & y_2 & 0 & 0 \\\\\n",
    "x_2' & y_2' & 0 & 0 \\\\\n",
    "\\end{vmatrix}\n",
    "$$\n",
    "\n",
    "$$\n",
    "D_c = \\begin{vmatrix}\n",
    "x_1 & y_1 & x_1' & y_1' \\\\\n",
    "0 & 0 & x_1 & y_1 \\\\\n",
    "x_2 & y_2 & x_2' & y_2' \\\\\n",
    "0 & 0 & x_2 & y_2 \\\\\n",
    "\\end{vmatrix}\n",
    "$$\n",
    "\n",
    "$$\n",
    "D_d = \\begin{vmatrix}\n",
    "x_1 & y_1 & 0 & 0 \\\\\n",
    "0 & 0 & x_1 & y_1 \\\\\n",
    "x_2 & y_2 & 0 & 0 \\\\\n",
    "x_2' & y_2' & 0 & 0 \\\\\n",
    "\\end{vmatrix}\n",
    "$$\n",
    "\n",
    "We can then plug these determinants into the formula to solve for \\( a \\)."
   ]
  },
  {
   "cell_type": "markdown",
   "metadata": {},
   "source": [
    "To solve for the value of \\(a\\), we can use Cramer's Rule, which states:\n",
    "\n",
    "$$\n",
    "a = \\frac{{D_a}}{{D}}\n",
    "$$\n",
    "\n",
    "\n",
    "where \\(D_a\\) is the determinant of the matrix \\(G\\) with the first column replaced by the vector \\((x_1', y_1', x_2', y_2')^T\\), and \\(D\\) is the determinant of the original matrix \\(G\\).\n",
    "\n",
    "Let's compute \\(D_a\\) and \\(D\\) using the provided matrices:\n",
    "\n",
    "Given:\n",
    "\n",
    "$$\n",
    "G = \\begin{pmatrix}\n",
    "x_1 & y_1 & 0 & 0 \\\\\n",
    "0 & 0 & x_1 & y_1 \\\\\n",
    "x_2 & y_2 & 0 & 0 \\\\\n",
    "0 & 0 & x_2 & y_2 \\\\\n",
    "\\end{pmatrix}\n",
    "$$\n",
    "\n",
    "$$\n",
    "D_a = \\begin{vmatrix}\n",
    "x_1' & y_1' & 0 & 0 \\\\\n",
    "0 & 0 & x_1 & y_1 \\\\\n",
    "x_2' & y_2' & 0 & 0 \\\\\n",
    "0 & 0 & x_2 & y_2 \\\\\n",
    "\\end{vmatrix} \n",
    "$$\n",
    "\n",
    "$$\n",
    "D = \\begin{vmatrix}\n",
    "x_1 & y_1 & 0 & 0 \\\\\n",
    "0 & 0 & x_1 & y_1 \\\\\n",
    "x_2 & y_2 & 0 & 0 \\\\\n",
    "0 & 0 & x_2 & y_2 \\\\\n",
    "\\end{vmatrix}\n",
    "$$\n",
    "\n",
    "Now, let's compute the determinants:\n",
    "\n",
    "$$\n",
    " D_a = (x_1' \\cdot (0 \\cdot 0 - 0 \\cdot 0) - y_1' \\cdot (0 \\cdot 0 - 0 \\cdot 0)) - (0 \\cdot ((0 \\cdot y_1) - (x_1 \\cdot 0)) - 0 \\cdot ((x_2 \\cdot y_2) - (y_2 \\cdot x_2))) \n",
    "$$\n",
    "\n",
    "$$\n",
    "D = (x_1 \\cdot (0 \\cdot 0 - 0 \\cdot 0) - y_1 \\cdot (0 \\cdot 0 - 0 \\cdot 0)) - (0 \\cdot ((0 \\cdot y_1) - (x_1 \\cdot 0)) - 0 \\cdot ((x_2 \\cdot y_2) - (y_2 \\cdot x_2)))\n",
    "$$\n",
    "\n",
    "Then, substitute these determinants into the formula for \\(a\\):\n",
    "\n",
    "$$\n",
    "a = \\frac{{D_a}}{{D}}\n",
    "$$\n",
    "\n",
    "Since both _**D_a and D are zero**_, we cannot find a meaningful value for \\(a\\) using Cramer's Rule. This indicates that the system of equations may not have a unique solution or that further analysis is needed."
   ]
  },
  {
   "cell_type": "markdown",
   "metadata": {},
   "source": [
    "## ***Task 2***\n"
   ]
  },
  {
   "cell_type": "markdown",
   "metadata": {},
   "source": [
    "* ***Question No.  2.1***\n",
    "  ### ***Part(2.1(a))***\n",
    "  > Manual solution"
   ]
  },
  {
   "cell_type": "markdown",
   "metadata": {},
   "source": [
    "2.1a, we need to create formulas for the expectation value of the mean and variance for rolling with advantage in System A and System B.\n",
    "\n",
    "Let's denote:\n",
    "\n",
    "$ X_A $ as the random variable representing the outcome of rolling with advantage in System A.\n",
    "\n",
    "$ X_B $ as the random variable representing the outcome of rolling with advantage in System B.\n",
    "\n",
    "\n",
    "For System A:\n",
    "1. Expectation value of the mean:\n",
    "$$ E[X_A] = \\frac{1}{20} \\sum_{i=1}^{20} i $$\n",
    "1. Variance:\n",
    "$$ Var(X_A) = E[X_A^2] - (E[X_A])^2 $$\n",
    "\n",
    "For System B:\n",
    "1. Expectation value of the mean:\n",
    "$$ E[X_B] = \\frac{1}{12} \\sum_{i=1}^{12} i + \\frac{1}{6} \\sum_{i=1}^{6} i $$\n",
    "2. Variance:\n",
    "$$ Var(X_B) = E[X_B^2] - (E[X_B])^2 $$\n",
    "\n"
   ]
  },
  {
   "cell_type": "markdown",
   "metadata": {},
   "source": [
    "  ### ***Part(2.1(b))***"
   ]
  },
  {
   "cell_type": "markdown",
   "metadata": {},
   "source": [
    "> Python solution"
   ]
  },
  {
   "cell_type": "code",
   "execution_count": 27,
   "metadata": {},
   "outputs": [
    {
     "data": {
      "text/plain": [
       "(10.5, 33.25)"
      ]
     },
     "execution_count": 27,
     "metadata": {},
     "output_type": "execute_result"
    }
   ],
   "source": [
    "# FOR A\n",
    "import numpy as np\n",
    "\n",
    "# Calculate expectation value of the mean for System A\n",
    "mean_A = np.mean(np.arange(1, 21))\n",
    "\n",
    "# Calculate expectation value of the variance for System A\n",
    "variance_A = np.mean(np.arange(1, 21) ** 2) - mean_A ** 2\n",
    "\n",
    "mean_A, variance_A\n"
   ]
  },
  {
   "cell_type": "code",
   "execution_count": 28,
   "metadata": {},
   "outputs": [
    {
     "data": {
      "text/plain": [
       "(10.0, -30.66666666666667)"
      ]
     },
     "execution_count": 28,
     "metadata": {},
     "output_type": "execute_result"
    }
   ],
   "source": [
    "# FOR B\n",
    "import numpy as np\n",
    "\n",
    "# Calculate expectation value of the mean for System B\n",
    "mean_B = (np.mean(np.arange(1, 13)) + np.mean(np.arange(1, 7)))\n",
    "\n",
    "# Calculate expectation value of the variance for System B\n",
    "variance_B = (np.mean(np.arange(1, 13) ** 2) + np.mean(np.arange(1, 7) ** 2)) - mean_B ** 2\n",
    "\n",
    "mean_B, variance_B\n"
   ]
  },
  {
   "cell_type": "markdown",
   "metadata": {},
   "source": [
    "## ***Question No.  2.2***"
   ]
  },
  {
   "cell_type": "code",
   "execution_count": 31,
   "metadata": {},
   "outputs": [
    {
     "name": "stdout",
     "output_type": "stream",
     "text": [
      "Probability of X < 6 given Y = 10: 0.004469273743016759\n"
     ]
    }
   ],
   "source": [
    "import numpy as np\n",
    "\n",
    "# Number of sides on the dice\n",
    "num_sides_20 = 20\n",
    "num_sides_12 = 12\n",
    "\n",
    "# Simulate rolling with advantage (Event 1)\n",
    "rolls = np.random.randint(1, num_sides_20 + 1, size=(100000, 2))\n",
    "\n",
    "# Check if the initial result is less than 6\n",
    "is_X_lt_6 = np.max(rolls, axis=1) < 6\n",
    "\n",
    "# If the initial result is less than 6, simulate rolling an extra 12-sided die (Event 2)\n",
    "num_extra_rolls = np.sum(is_X_lt_6)\n",
    "extra_rolls = np.random.randint(1, num_sides_12 + 1, size=num_extra_rolls)\n",
    "\n",
    "# Ensure both arrays have the same shape\n",
    "is_X_lt_6 = is_X_lt_6[:num_extra_rolls]\n",
    "\n",
    "# Calculate the probability that Event 1 is X < 6 given that Event 2 is Y = 10\n",
    "prob_X_lt_6_given_Y_10 = np.mean(is_X_lt_6 & (extra_rolls == 10))\n",
    "\n",
    "print(\"Probability of X < 6 given Y = 10:\", prob_X_lt_6_given_Y_10)\n"
   ]
  },
  {
   "cell_type": "markdown",
   "metadata": {},
   "source": [
    "***Explanation:***\n",
    "\n",
    "- We simulate rolling with advantage (Event 1) by generating two random numbers between 1 and 20 using NumPy.\n",
    "- We check if the maximum of the two rolls is less than 6, indicating that the initial result is less than 6.\n",
    "- If the initial result is less than 6, we simulate rolling an extra 12-sided die (Event 2) by generating a ra- ndom number between 1 and 12 using NumPy.\n",
    "- We calculate the probability that Event 1 is 𝑋 < 6 given that Event 2 is 𝑌 = 10 by taking the mean of the logical AND operation between the conditions for  Event 1 and Event 2."
   ]
  },
  {
   "cell_type": "code",
   "execution_count": null,
   "metadata": {},
   "outputs": [],
   "source": []
  }
 ],
 "metadata": {
  "kernelspec": {
   "display_name": "Python 3",
   "language": "python",
   "name": "python3"
  },
  "language_info": {
   "codemirror_mode": {
    "name": "ipython",
    "version": 3
   },
   "file_extension": ".py",
   "mimetype": "text/x-python",
   "name": "python",
   "nbconvert_exporter": "python",
   "pygments_lexer": "ipython3",
   "version": "3.12.0"
  }
 },
 "nbformat": 4,
 "nbformat_minor": 2
}
